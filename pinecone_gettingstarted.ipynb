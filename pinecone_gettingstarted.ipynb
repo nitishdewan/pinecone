{
  "nbformat": 4,
  "nbformat_minor": 0,
  "metadata": {
    "colab": {
      "provenance": [],
      "authorship_tag": "ABX9TyN+JHkJUgwbGeVGMVYmreBH",
      "include_colab_link": true
    },
    "kernelspec": {
      "name": "python3",
      "display_name": "Python 3"
    },
    "language_info": {
      "name": "python"
    }
  },
  "cells": [
    {
      "cell_type": "markdown",
      "metadata": {
        "id": "view-in-github",
        "colab_type": "text"
      },
      "source": [
        "<a href=\"https://colab.research.google.com/github/nitishdewan/pinecone/blob/main/pinecone_gettingstarted.ipynb\" target=\"_parent\"><img src=\"https://colab.research.google.com/assets/colab-badge.svg\" alt=\"Open In Colab\"/></a>"
      ]
    },
    {
      "cell_type": "code",
      "execution_count": 1,
      "metadata": {
        "colab": {
          "base_uri": "https://localhost:8080/"
        },
        "id": "VhFE_h93eBDw",
        "outputId": "377f19ce-9e4d-4a48-eb72-31dbe72d4516"
      },
      "outputs": [
        {
          "output_type": "stream",
          "name": "stdout",
          "text": [
            "Collecting pinecone-client\n",
            "  Downloading pinecone_client-3.2.2-py3-none-any.whl (215 kB)\n",
            "\u001b[2K     \u001b[90m━━━━━━━━━━━━━━━━━━━━━━━━━━━━━━━━━━━━━━━━\u001b[0m \u001b[32m215.9/215.9 kB\u001b[0m \u001b[31m2.8 MB/s\u001b[0m eta \u001b[36m0:00:00\u001b[0m\n",
            "\u001b[?25hRequirement already satisfied: certifi>=2019.11.17 in /usr/local/lib/python3.10/dist-packages (from pinecone-client) (2024.2.2)\n",
            "Requirement already satisfied: tqdm>=4.64.1 in /usr/local/lib/python3.10/dist-packages (from pinecone-client) (4.66.2)\n",
            "Requirement already satisfied: typing-extensions>=3.7.4 in /usr/local/lib/python3.10/dist-packages (from pinecone-client) (4.10.0)\n",
            "Requirement already satisfied: urllib3>=1.26.0 in /usr/local/lib/python3.10/dist-packages (from pinecone-client) (2.0.7)\n",
            "Installing collected packages: pinecone-client\n",
            "Successfully installed pinecone-client-3.2.2\n"
          ]
        }
      ],
      "source": [
        "!pip install pinecone-client"
      ]
    },
    {
      "cell_type": "code",
      "source": [
        "from google.colab import userdata\n",
        "pinecone_key = userdata.get('pinecone')"
      ],
      "metadata": {
        "id": "ghLZzD7YeVbn"
      },
      "execution_count": 2,
      "outputs": []
    },
    {
      "cell_type": "code",
      "source": [
        "from pinecone import Pinecone\n",
        "\n",
        "pc = Pinecone(api_key= pinecone_key)"
      ],
      "metadata": {
        "id": "1bXi_90GeI7H"
      },
      "execution_count": 3,
      "outputs": []
    },
    {
      "cell_type": "code",
      "source": [
        "from pinecone import ServerlessSpec\n",
        "\n",
        "pc.create_index(\n",
        "    name=\"quickstart\",\n",
        "    dimension=8,\n",
        "    metric=\"euclidean\",\n",
        "    spec=ServerlessSpec(\n",
        "        cloud='aws',\n",
        "        region='us-west-2'\n",
        "    )\n",
        ")"
      ],
      "metadata": {
        "id": "gTmYdg0VebBb"
      },
      "execution_count": 4,
      "outputs": []
    },
    {
      "cell_type": "code",
      "source": [
        "index = pc.Index(\"quickstart\")"
      ],
      "metadata": {
        "id": "JE-1ZP4NejWX"
      },
      "execution_count": 5,
      "outputs": []
    },
    {
      "cell_type": "code",
      "source": [
        "index.upsert(\n",
        "    vectors=[\n",
        "        {\"id\": \"vec1\", \"values\": [0.1, 0.1, 0.1, 0.1, 0.1, 0.1, 0.1, 0.1]},\n",
        "        {\"id\": \"vec2\", \"values\": [0.2, 0.2, 0.2, 0.2, 0.2, 0.2, 0.2, 0.2]},\n",
        "        {\"id\": \"vec3\", \"values\": [0.3, 0.3, 0.3, 0.3, 0.3, 0.3, 0.3, 0.3]},\n",
        "        {\"id\": \"vec4\", \"values\": [0.4, 0.4, 0.4, 0.4, 0.4, 0.4, 0.4, 0.4]}\n",
        "    ],\n",
        "    namespace=\"ns1\"\n",
        ")\n",
        "\n",
        "index.upsert(\n",
        "    vectors=[\n",
        "        {\"id\": \"vec5\", \"values\": [0.5, 0.5, 0.5, 0.5, 0.5, 0.5, 0.5, 0.5]},\n",
        "        {\"id\": \"vec6\", \"values\": [0.6, 0.6, 0.6, 0.6, 0.6, 0.6, 0.6, 0.6]},\n",
        "        {\"id\": \"vec7\", \"values\": [0.7, 0.7, 0.7, 0.7, 0.7, 0.7, 0.7, 0.7]},\n",
        "        {\"id\": \"vec8\", \"values\": [0.8, 0.8, 0.8, 0.8, 0.8, 0.8, 0.8, 0.8]}\n",
        "    ],\n",
        "    namespace=\"ns2\"\n",
        ")"
      ],
      "metadata": {
        "colab": {
          "base_uri": "https://localhost:8080/"
        },
        "id": "I3vWkUWTe1mv",
        "outputId": "ae3d83df-f472-4bbd-9b0c-e36cc6d25fbf"
      },
      "execution_count": 6,
      "outputs": [
        {
          "output_type": "execute_result",
          "data": {
            "text/plain": [
              "{'upserted_count': 4}"
            ]
          },
          "metadata": {},
          "execution_count": 6
        }
      ]
    },
    {
      "cell_type": "code",
      "source": [
        "index.describe_index_stats()"
      ],
      "metadata": {
        "colab": {
          "base_uri": "https://localhost:8080/"
        },
        "id": "7CAB3Dpue4-9",
        "outputId": "7cf79298-487a-465c-ea08-0b5183b73f57"
      },
      "execution_count": 7,
      "outputs": [
        {
          "output_type": "execute_result",
          "data": {
            "text/plain": [
              "{'dimension': 8,\n",
              " 'index_fullness': 0.0,\n",
              " 'namespaces': {'ns1': {'vector_count': 4}, 'ns2': {'vector_count': 4}},\n",
              " 'total_vector_count': 8}"
            ]
          },
          "metadata": {},
          "execution_count": 7
        }
      ]
    },
    {
      "cell_type": "code",
      "source": [
        "index.query(\n",
        "    namespace=\"ns1\",\n",
        "    vector=[0.3, 0.3, 0.3, 0.3, 0.3, 0.3, 0.3, 0.3],\n",
        "    top_k=3,\n",
        "    include_values=True\n",
        ")"
      ],
      "metadata": {
        "colab": {
          "base_uri": "https://localhost:8080/"
        },
        "id": "RxiUDDste_Pd",
        "outputId": "7a3aecdc-db60-48ee-fa8c-5c45d12a4d36"
      },
      "execution_count": 9,
      "outputs": [
        {
          "output_type": "execute_result",
          "data": {
            "text/plain": [
              "{'matches': [{'id': 'vec3',\n",
              "              'score': 0.0,\n",
              "              'values': [0.3, 0.3, 0.3, 0.3, 0.3, 0.3, 0.3, 0.3]},\n",
              "             {'id': 'vec4',\n",
              "              'score': 0.0799999237,\n",
              "              'values': [0.4, 0.4, 0.4, 0.4, 0.4, 0.4, 0.4, 0.4]},\n",
              "             {'id': 'vec2',\n",
              "              'score': 0.0800000429,\n",
              "              'values': [0.2, 0.2, 0.2, 0.2, 0.2, 0.2, 0.2, 0.2]}],\n",
              " 'namespace': 'ns1',\n",
              " 'usage': {'read_units': 6}}"
            ]
          },
          "metadata": {},
          "execution_count": 9
        }
      ]
    },
    {
      "cell_type": "code",
      "source": [
        "index.query(\n",
        "    namespace=\"ns2\",\n",
        "    vector=[0.7, 0.7, 0.7, 0.7, 0.7, 0.7, 0.7, 0.7],\n",
        "    top_k=3,\n",
        "    include_values=True\n",
        ")"
      ],
      "metadata": {
        "colab": {
          "base_uri": "https://localhost:8080/"
        },
        "id": "Ad9JWNAJfEsL",
        "outputId": "a1a82f0d-6f58-4d32-9bf2-fafa58759b1e"
      },
      "execution_count": 10,
      "outputs": [
        {
          "output_type": "execute_result",
          "data": {
            "text/plain": [
              "{'matches': [{'id': 'vec7',\n",
              "              'score': 0.0,\n",
              "              'values': [0.7, 0.7, 0.7, 0.7, 0.7, 0.7, 0.7, 0.7]},\n",
              "             {'id': 'vec6',\n",
              "              'score': 0.0799999237,\n",
              "              'values': [0.6, 0.6, 0.6, 0.6, 0.6, 0.6, 0.6, 0.6]},\n",
              "             {'id': 'vec8',\n",
              "              'score': 0.0799999237,\n",
              "              'values': [0.8, 0.8, 0.8, 0.8, 0.8, 0.8, 0.8, 0.8]}],\n",
              " 'namespace': 'ns2',\n",
              " 'usage': {'read_units': 6}}"
            ]
          },
          "metadata": {},
          "execution_count": 10
        }
      ]
    },
    {
      "cell_type": "code",
      "source": [
        "pc.delete_index(\"quickstart\")"
      ],
      "metadata": {
        "id": "KkjyhKtbfJuk"
      },
      "execution_count": 11,
      "outputs": []
    },
    {
      "cell_type": "code",
      "source": [],
      "metadata": {
        "id": "KDMgk_2Zfbje"
      },
      "execution_count": null,
      "outputs": []
    }
  ]
}